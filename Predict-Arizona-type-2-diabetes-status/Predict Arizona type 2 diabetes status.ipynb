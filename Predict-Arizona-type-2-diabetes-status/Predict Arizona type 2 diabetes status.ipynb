{
 "cells": [
  {
   "cell_type": "code",
   "execution_count": 1,
   "id": "45452402",
   "metadata": {},
   "outputs": [],
   "source": [
    "import matplotlib.pyplot as plt\n",
    "from matplotlib.ticker import NullFormatter\n",
    "import pandas as pd\n",
    "import numpy as np\n",
    "import matplotlib.ticker as ticker\n",
    "from sklearn import preprocessing\n",
    "%matplotlib inline"
   ]
  },
  {
   "cell_type": "markdown",
   "id": "ad68bba8",
   "metadata": {},
   "source": [
    "# Task 1: Đọc dữ liệu"
   ]
  },
  {
   "cell_type": "code",
   "execution_count": 2,
   "id": "71ba8bc9",
   "metadata": {},
   "outputs": [
    {
     "data": {
      "text/html": [
       "<div>\n",
       "<style scoped>\n",
       "    .dataframe tbody tr th:only-of-type {\n",
       "        vertical-align: middle;\n",
       "    }\n",
       "\n",
       "    .dataframe tbody tr th {\n",
       "        vertical-align: top;\n",
       "    }\n",
       "\n",
       "    .dataframe thead th {\n",
       "        text-align: right;\n",
       "    }\n",
       "</style>\n",
       "<table border=\"1\" class=\"dataframe\">\n",
       "  <thead>\n",
       "    <tr style=\"text-align: right;\">\n",
       "      <th></th>\n",
       "      <th>NumTimesPrg</th>\n",
       "      <th>PlGlcConc</th>\n",
       "      <th>BloodP</th>\n",
       "      <th>SkinThick</th>\n",
       "      <th>TwoHourSerIns</th>\n",
       "      <th>BMI</th>\n",
       "      <th>DiPedFunc</th>\n",
       "      <th>Age</th>\n",
       "      <th>HasDiabetes</th>\n",
       "    </tr>\n",
       "  </thead>\n",
       "  <tbody>\n",
       "    <tr>\n",
       "      <th>0</th>\n",
       "      <td>6</td>\n",
       "      <td>148</td>\n",
       "      <td>72</td>\n",
       "      <td>35</td>\n",
       "      <td>0</td>\n",
       "      <td>33.6</td>\n",
       "      <td>0.627</td>\n",
       "      <td>50</td>\n",
       "      <td>1</td>\n",
       "    </tr>\n",
       "    <tr>\n",
       "      <th>1</th>\n",
       "      <td>1</td>\n",
       "      <td>85</td>\n",
       "      <td>66</td>\n",
       "      <td>29</td>\n",
       "      <td>0</td>\n",
       "      <td>26.6</td>\n",
       "      <td>0.351</td>\n",
       "      <td>31</td>\n",
       "      <td>0</td>\n",
       "    </tr>\n",
       "    <tr>\n",
       "      <th>2</th>\n",
       "      <td>8</td>\n",
       "      <td>183</td>\n",
       "      <td>64</td>\n",
       "      <td>0</td>\n",
       "      <td>0</td>\n",
       "      <td>23.3</td>\n",
       "      <td>0.672</td>\n",
       "      <td>32</td>\n",
       "      <td>1</td>\n",
       "    </tr>\n",
       "    <tr>\n",
       "      <th>3</th>\n",
       "      <td>1</td>\n",
       "      <td>89</td>\n",
       "      <td>66</td>\n",
       "      <td>23</td>\n",
       "      <td>94</td>\n",
       "      <td>28.1</td>\n",
       "      <td>0.167</td>\n",
       "      <td>21</td>\n",
       "      <td>0</td>\n",
       "    </tr>\n",
       "    <tr>\n",
       "      <th>4</th>\n",
       "      <td>0</td>\n",
       "      <td>137</td>\n",
       "      <td>40</td>\n",
       "      <td>35</td>\n",
       "      <td>168</td>\n",
       "      <td>43.1</td>\n",
       "      <td>2.288</td>\n",
       "      <td>33</td>\n",
       "      <td>1</td>\n",
       "    </tr>\n",
       "    <tr>\n",
       "      <th>...</th>\n",
       "      <td>...</td>\n",
       "      <td>...</td>\n",
       "      <td>...</td>\n",
       "      <td>...</td>\n",
       "      <td>...</td>\n",
       "      <td>...</td>\n",
       "      <td>...</td>\n",
       "      <td>...</td>\n",
       "      <td>...</td>\n",
       "    </tr>\n",
       "    <tr>\n",
       "      <th>763</th>\n",
       "      <td>10</td>\n",
       "      <td>101</td>\n",
       "      <td>76</td>\n",
       "      <td>48</td>\n",
       "      <td>180</td>\n",
       "      <td>32.9</td>\n",
       "      <td>0.171</td>\n",
       "      <td>63</td>\n",
       "      <td>0</td>\n",
       "    </tr>\n",
       "    <tr>\n",
       "      <th>764</th>\n",
       "      <td>2</td>\n",
       "      <td>122</td>\n",
       "      <td>70</td>\n",
       "      <td>27</td>\n",
       "      <td>0</td>\n",
       "      <td>36.8</td>\n",
       "      <td>0.340</td>\n",
       "      <td>27</td>\n",
       "      <td>0</td>\n",
       "    </tr>\n",
       "    <tr>\n",
       "      <th>765</th>\n",
       "      <td>5</td>\n",
       "      <td>121</td>\n",
       "      <td>72</td>\n",
       "      <td>23</td>\n",
       "      <td>112</td>\n",
       "      <td>26.2</td>\n",
       "      <td>0.245</td>\n",
       "      <td>30</td>\n",
       "      <td>0</td>\n",
       "    </tr>\n",
       "    <tr>\n",
       "      <th>766</th>\n",
       "      <td>1</td>\n",
       "      <td>126</td>\n",
       "      <td>60</td>\n",
       "      <td>0</td>\n",
       "      <td>0</td>\n",
       "      <td>30.1</td>\n",
       "      <td>0.349</td>\n",
       "      <td>47</td>\n",
       "      <td>1</td>\n",
       "    </tr>\n",
       "    <tr>\n",
       "      <th>767</th>\n",
       "      <td>1</td>\n",
       "      <td>93</td>\n",
       "      <td>70</td>\n",
       "      <td>31</td>\n",
       "      <td>0</td>\n",
       "      <td>30.4</td>\n",
       "      <td>0.315</td>\n",
       "      <td>23</td>\n",
       "      <td>0</td>\n",
       "    </tr>\n",
       "  </tbody>\n",
       "</table>\n",
       "<p>768 rows × 9 columns</p>\n",
       "</div>"
      ],
      "text/plain": [
       "     NumTimesPrg  PlGlcConc  BloodP  SkinThick  TwoHourSerIns   BMI  \\\n",
       "0              6        148      72         35              0  33.6   \n",
       "1              1         85      66         29              0  26.6   \n",
       "2              8        183      64          0              0  23.3   \n",
       "3              1         89      66         23             94  28.1   \n",
       "4              0        137      40         35            168  43.1   \n",
       "..           ...        ...     ...        ...            ...   ...   \n",
       "763           10        101      76         48            180  32.9   \n",
       "764            2        122      70         27              0  36.8   \n",
       "765            5        121      72         23            112  26.2   \n",
       "766            1        126      60          0              0  30.1   \n",
       "767            1         93      70         31              0  30.4   \n",
       "\n",
       "     DiPedFunc  Age  HasDiabetes  \n",
       "0        0.627   50            1  \n",
       "1        0.351   31            0  \n",
       "2        0.672   32            1  \n",
       "3        0.167   21            0  \n",
       "4        2.288   33            1  \n",
       "..         ...  ...          ...  \n",
       "763      0.171   63            0  \n",
       "764      0.340   27            0  \n",
       "765      0.245   30            0  \n",
       "766      0.349   47            1  \n",
       "767      0.315   23            0  \n",
       "\n",
       "[768 rows x 9 columns]"
      ]
     },
     "execution_count": 2,
     "metadata": {},
     "output_type": "execute_result"
    }
   ],
   "source": [
    "df = pd.read_csv('pima-indians-diabetes.csv', names=[\"NumTimesPrg\", \"PlGlcConc\", \"BloodP\", \"SkinThick\", \"TwoHourSerIns\", \"BMI\", \"DiPedFunc\", \"Age\", \"HasDiabetes\"])\n",
    "df"
   ]
  },
  {
   "cell_type": "markdown",
   "id": "5dcfd2d3",
   "metadata": {},
   "source": [
    "# Task 2: Tính ma trận tương quan cho tập dữ liệu."
   ]
  },
  {
   "cell_type": "code",
   "execution_count": 3,
   "id": "6ffbd269",
   "metadata": {},
   "outputs": [
    {
     "data": {
      "text/html": [
       "<div>\n",
       "<style scoped>\n",
       "    .dataframe tbody tr th:only-of-type {\n",
       "        vertical-align: middle;\n",
       "    }\n",
       "\n",
       "    .dataframe tbody tr th {\n",
       "        vertical-align: top;\n",
       "    }\n",
       "\n",
       "    .dataframe thead th {\n",
       "        text-align: right;\n",
       "    }\n",
       "</style>\n",
       "<table border=\"1\" class=\"dataframe\">\n",
       "  <thead>\n",
       "    <tr style=\"text-align: right;\">\n",
       "      <th></th>\n",
       "      <th>NumTimesPrg</th>\n",
       "      <th>PlGlcConc</th>\n",
       "      <th>BloodP</th>\n",
       "      <th>SkinThick</th>\n",
       "      <th>TwoHourSerIns</th>\n",
       "      <th>BMI</th>\n",
       "      <th>DiPedFunc</th>\n",
       "      <th>Age</th>\n",
       "      <th>HasDiabetes</th>\n",
       "    </tr>\n",
       "  </thead>\n",
       "  <tbody>\n",
       "    <tr>\n",
       "      <th>NumTimesPrg</th>\n",
       "      <td>1.000000</td>\n",
       "      <td>0.129459</td>\n",
       "      <td>0.141282</td>\n",
       "      <td>-0.081672</td>\n",
       "      <td>-0.073535</td>\n",
       "      <td>0.017683</td>\n",
       "      <td>-0.033523</td>\n",
       "      <td>0.544341</td>\n",
       "      <td>0.221898</td>\n",
       "    </tr>\n",
       "    <tr>\n",
       "      <th>PlGlcConc</th>\n",
       "      <td>0.129459</td>\n",
       "      <td>1.000000</td>\n",
       "      <td>0.152590</td>\n",
       "      <td>0.057328</td>\n",
       "      <td>0.331357</td>\n",
       "      <td>0.221071</td>\n",
       "      <td>0.137337</td>\n",
       "      <td>0.263514</td>\n",
       "      <td>0.466581</td>\n",
       "    </tr>\n",
       "    <tr>\n",
       "      <th>BloodP</th>\n",
       "      <td>0.141282</td>\n",
       "      <td>0.152590</td>\n",
       "      <td>1.000000</td>\n",
       "      <td>0.207371</td>\n",
       "      <td>0.088933</td>\n",
       "      <td>0.281805</td>\n",
       "      <td>0.041265</td>\n",
       "      <td>0.239528</td>\n",
       "      <td>0.065068</td>\n",
       "    </tr>\n",
       "    <tr>\n",
       "      <th>SkinThick</th>\n",
       "      <td>-0.081672</td>\n",
       "      <td>0.057328</td>\n",
       "      <td>0.207371</td>\n",
       "      <td>1.000000</td>\n",
       "      <td>0.436783</td>\n",
       "      <td>0.392573</td>\n",
       "      <td>0.183928</td>\n",
       "      <td>-0.113970</td>\n",
       "      <td>0.074752</td>\n",
       "    </tr>\n",
       "    <tr>\n",
       "      <th>TwoHourSerIns</th>\n",
       "      <td>-0.073535</td>\n",
       "      <td>0.331357</td>\n",
       "      <td>0.088933</td>\n",
       "      <td>0.436783</td>\n",
       "      <td>1.000000</td>\n",
       "      <td>0.197859</td>\n",
       "      <td>0.185071</td>\n",
       "      <td>-0.042163</td>\n",
       "      <td>0.130548</td>\n",
       "    </tr>\n",
       "    <tr>\n",
       "      <th>BMI</th>\n",
       "      <td>0.017683</td>\n",
       "      <td>0.221071</td>\n",
       "      <td>0.281805</td>\n",
       "      <td>0.392573</td>\n",
       "      <td>0.197859</td>\n",
       "      <td>1.000000</td>\n",
       "      <td>0.140647</td>\n",
       "      <td>0.036242</td>\n",
       "      <td>0.292695</td>\n",
       "    </tr>\n",
       "    <tr>\n",
       "      <th>DiPedFunc</th>\n",
       "      <td>-0.033523</td>\n",
       "      <td>0.137337</td>\n",
       "      <td>0.041265</td>\n",
       "      <td>0.183928</td>\n",
       "      <td>0.185071</td>\n",
       "      <td>0.140647</td>\n",
       "      <td>1.000000</td>\n",
       "      <td>0.033561</td>\n",
       "      <td>0.173844</td>\n",
       "    </tr>\n",
       "    <tr>\n",
       "      <th>Age</th>\n",
       "      <td>0.544341</td>\n",
       "      <td>0.263514</td>\n",
       "      <td>0.239528</td>\n",
       "      <td>-0.113970</td>\n",
       "      <td>-0.042163</td>\n",
       "      <td>0.036242</td>\n",
       "      <td>0.033561</td>\n",
       "      <td>1.000000</td>\n",
       "      <td>0.238356</td>\n",
       "    </tr>\n",
       "    <tr>\n",
       "      <th>HasDiabetes</th>\n",
       "      <td>0.221898</td>\n",
       "      <td>0.466581</td>\n",
       "      <td>0.065068</td>\n",
       "      <td>0.074752</td>\n",
       "      <td>0.130548</td>\n",
       "      <td>0.292695</td>\n",
       "      <td>0.173844</td>\n",
       "      <td>0.238356</td>\n",
       "      <td>1.000000</td>\n",
       "    </tr>\n",
       "  </tbody>\n",
       "</table>\n",
       "</div>"
      ],
      "text/plain": [
       "               NumTimesPrg  PlGlcConc    BloodP  SkinThick  TwoHourSerIns  \\\n",
       "NumTimesPrg       1.000000   0.129459  0.141282  -0.081672      -0.073535   \n",
       "PlGlcConc         0.129459   1.000000  0.152590   0.057328       0.331357   \n",
       "BloodP            0.141282   0.152590  1.000000   0.207371       0.088933   \n",
       "SkinThick        -0.081672   0.057328  0.207371   1.000000       0.436783   \n",
       "TwoHourSerIns    -0.073535   0.331357  0.088933   0.436783       1.000000   \n",
       "BMI               0.017683   0.221071  0.281805   0.392573       0.197859   \n",
       "DiPedFunc        -0.033523   0.137337  0.041265   0.183928       0.185071   \n",
       "Age               0.544341   0.263514  0.239528  -0.113970      -0.042163   \n",
       "HasDiabetes       0.221898   0.466581  0.065068   0.074752       0.130548   \n",
       "\n",
       "                    BMI  DiPedFunc       Age  HasDiabetes  \n",
       "NumTimesPrg    0.017683  -0.033523  0.544341     0.221898  \n",
       "PlGlcConc      0.221071   0.137337  0.263514     0.466581  \n",
       "BloodP         0.281805   0.041265  0.239528     0.065068  \n",
       "SkinThick      0.392573   0.183928 -0.113970     0.074752  \n",
       "TwoHourSerIns  0.197859   0.185071 -0.042163     0.130548  \n",
       "BMI            1.000000   0.140647  0.036242     0.292695  \n",
       "DiPedFunc      0.140647   1.000000  0.033561     0.173844  \n",
       "Age            0.036242   0.033561  1.000000     0.238356  \n",
       "HasDiabetes    0.292695   0.173844  0.238356     1.000000  "
      ]
     },
     "execution_count": 3,
     "metadata": {},
     "output_type": "execute_result"
    }
   ],
   "source": [
    "corr = df.corr()\n",
    "corr"
   ]
  },
  {
   "cell_type": "markdown",
   "id": "65613c50",
   "metadata": {},
   "source": [
    "# Task 3: Trực quan ma trận tương quan bằng heatmap trong seaborn."
   ]
  },
  {
   "cell_type": "code",
   "execution_count": 4,
   "id": "c5538b7a",
   "metadata": {},
   "outputs": [
    {
     "data": {
      "text/plain": [
       "<AxesSubplot:>"
      ]
     },
     "execution_count": 4,
     "metadata": {},
     "output_type": "execute_result"
    },
    {
     "data": {
      "image/png": "[encoded data removed]",
      "text/plain": [
       "<Figure size 720x576 with 2 Axes>"
      ]
     },
     "metadata": {
      "needs_background": "light"
     },
     "output_type": "display_data"
    }
   ],
   "source": [
    "import seaborn as sns\n",
    "\n",
    "plt.subplots(figsize=(10,8))\n",
    "sns.heatmap(corr, annot=True)"
   ]
  },
  {
   "cell_type": "markdown",
   "id": "f2db3135",
   "metadata": {},
   "source": [
    "# Task 4: Trực quan histogram với tất cả cột tập dữ liệu."
   ]
  },
  {
   "cell_type": "code",
   "execution_count": 5,
   "id": "0bdec055",
   "metadata": {
    "scrolled": false
   },
   "outputs": [
    {
     "data": {
      "image/png": "[encoded data removed]",
      "text/plain": [
       "<Figure size 1440x1080 with 9 Axes>"
      ]
     },
     "metadata": {
      "needs_background": "light"
     },
     "output_type": "display_data"
    }
   ],
   "source": [
    "df.hist(bins=50, figsize=(20, 15))\n",
    "plt.show()"
   ]
  },
  {
   "cell_type": "markdown",
   "id": "b92b4fed",
   "metadata": {},
   "source": [
    "# Task 5: Gán giá trị bị khuyết trên ['BMI', 'BloodP', 'PlGlcConc', 'SkinThick', 'TwoHourSerIns'] bằng giá trị trung vị hoặc bất kỳ cách nào khác có hiệu quả."
   ]
  },
  {
   "cell_type": "code",
   "execution_count": 6,
   "id": "cb65b25b",
   "metadata": {},
   "outputs": [
    {
     "data": {
      "text/plain": [
       "NumTimesPrg      0\n",
       "PlGlcConc        0\n",
       "BloodP           0\n",
       "SkinThick        0\n",
       "TwoHourSerIns    0\n",
       "BMI              0\n",
       "DiPedFunc        0\n",
       "Age              0\n",
       "HasDiabetes      0\n",
       "dtype: int64"
      ]
     },
     "execution_count": 6,
     "metadata": {},
     "output_type": "execute_result"
    }
   ],
   "source": [
    "# Kiểm tra các giá trị NA\n",
    "df.isna().sum()"
   ]
  },
  {
   "cell_type": "code",
   "execution_count": 7,
   "id": "5204187f",
   "metadata": {},
   "outputs": [
    {
     "data": {
      "text/plain": [
       "NumTimesPrg      111\n",
       "PlGlcConc          5\n",
       "BloodP            35\n",
       "SkinThick        227\n",
       "TwoHourSerIns    374\n",
       "BMI               11\n",
       "DiPedFunc          0\n",
       "Age                0\n",
       "HasDiabetes      500\n",
       "dtype: int64"
      ]
     },
     "execution_count": 7,
     "metadata": {},
     "output_type": "execute_result"
    }
   ],
   "source": [
    "# Kiểm tra các giá trị 0 trong dataframe\n",
    "(df == 0).sum()"
   ]
  },
  {
   "cell_type": "code",
   "execution_count": 8,
   "id": "0b8ba4f9",
   "metadata": {},
   "outputs": [
    {
     "data": {
      "text/html": [
       "<div>\n",
       "<style scoped>\n",
       "    .dataframe tbody tr th:only-of-type {\n",
       "        vertical-align: middle;\n",
       "    }\n",
       "\n",
       "    .dataframe tbody tr th {\n",
       "        vertical-align: top;\n",
       "    }\n",
       "\n",
       "    .dataframe thead th {\n",
       "        text-align: right;\n",
       "    }\n",
       "</style>\n",
       "<table border=\"1\" class=\"dataframe\">\n",
       "  <thead>\n",
       "    <tr style=\"text-align: right;\">\n",
       "      <th></th>\n",
       "      <th>NumTimesPrg</th>\n",
       "      <th>PlGlcConc</th>\n",
       "      <th>BloodP</th>\n",
       "      <th>SkinThick</th>\n",
       "      <th>TwoHourSerIns</th>\n",
       "      <th>BMI</th>\n",
       "      <th>DiPedFunc</th>\n",
       "      <th>Age</th>\n",
       "      <th>HasDiabetes</th>\n",
       "    </tr>\n",
       "  </thead>\n",
       "  <tbody>\n",
       "    <tr>\n",
       "      <th>0</th>\n",
       "      <td>6</td>\n",
       "      <td>148</td>\n",
       "      <td>72</td>\n",
       "      <td>35</td>\n",
       "      <td>30.5</td>\n",
       "      <td>33.6</td>\n",
       "      <td>0.627</td>\n",
       "      <td>50</td>\n",
       "      <td>1</td>\n",
       "    </tr>\n",
       "    <tr>\n",
       "      <th>1</th>\n",
       "      <td>1</td>\n",
       "      <td>85</td>\n",
       "      <td>66</td>\n",
       "      <td>29</td>\n",
       "      <td>30.5</td>\n",
       "      <td>26.6</td>\n",
       "      <td>0.351</td>\n",
       "      <td>31</td>\n",
       "      <td>0</td>\n",
       "    </tr>\n",
       "    <tr>\n",
       "      <th>2</th>\n",
       "      <td>8</td>\n",
       "      <td>183</td>\n",
       "      <td>64</td>\n",
       "      <td>23</td>\n",
       "      <td>30.5</td>\n",
       "      <td>23.3</td>\n",
       "      <td>0.672</td>\n",
       "      <td>32</td>\n",
       "      <td>1</td>\n",
       "    </tr>\n",
       "    <tr>\n",
       "      <th>3</th>\n",
       "      <td>1</td>\n",
       "      <td>89</td>\n",
       "      <td>66</td>\n",
       "      <td>23</td>\n",
       "      <td>94.0</td>\n",
       "      <td>28.1</td>\n",
       "      <td>0.167</td>\n",
       "      <td>21</td>\n",
       "      <td>0</td>\n",
       "    </tr>\n",
       "    <tr>\n",
       "      <th>4</th>\n",
       "      <td>0</td>\n",
       "      <td>137</td>\n",
       "      <td>40</td>\n",
       "      <td>35</td>\n",
       "      <td>168.0</td>\n",
       "      <td>43.1</td>\n",
       "      <td>2.288</td>\n",
       "      <td>33</td>\n",
       "      <td>1</td>\n",
       "    </tr>\n",
       "    <tr>\n",
       "      <th>...</th>\n",
       "      <td>...</td>\n",
       "      <td>...</td>\n",
       "      <td>...</td>\n",
       "      <td>...</td>\n",
       "      <td>...</td>\n",
       "      <td>...</td>\n",
       "      <td>...</td>\n",
       "      <td>...</td>\n",
       "      <td>...</td>\n",
       "    </tr>\n",
       "    <tr>\n",
       "      <th>763</th>\n",
       "      <td>10</td>\n",
       "      <td>101</td>\n",
       "      <td>76</td>\n",
       "      <td>48</td>\n",
       "      <td>180.0</td>\n",
       "      <td>32.9</td>\n",
       "      <td>0.171</td>\n",
       "      <td>63</td>\n",
       "      <td>0</td>\n",
       "    </tr>\n",
       "    <tr>\n",
       "      <th>764</th>\n",
       "      <td>2</td>\n",
       "      <td>122</td>\n",
       "      <td>70</td>\n",
       "      <td>27</td>\n",
       "      <td>30.5</td>\n",
       "      <td>36.8</td>\n",
       "      <td>0.340</td>\n",
       "      <td>27</td>\n",
       "      <td>0</td>\n",
       "    </tr>\n",
       "    <tr>\n",
       "      <th>765</th>\n",
       "      <td>5</td>\n",
       "      <td>121</td>\n",
       "      <td>72</td>\n",
       "      <td>23</td>\n",
       "      <td>112.0</td>\n",
       "      <td>26.2</td>\n",
       "      <td>0.245</td>\n",
       "      <td>30</td>\n",
       "      <td>0</td>\n",
       "    </tr>\n",
       "    <tr>\n",
       "      <th>766</th>\n",
       "      <td>1</td>\n",
       "      <td>126</td>\n",
       "      <td>60</td>\n",
       "      <td>23</td>\n",
       "      <td>30.5</td>\n",
       "      <td>30.1</td>\n",
       "      <td>0.349</td>\n",
       "      <td>47</td>\n",
       "      <td>1</td>\n",
       "    </tr>\n",
       "    <tr>\n",
       "      <th>767</th>\n",
       "      <td>1</td>\n",
       "      <td>93</td>\n",
       "      <td>70</td>\n",
       "      <td>31</td>\n",
       "      <td>30.5</td>\n",
       "      <td>30.4</td>\n",
       "      <td>0.315</td>\n",
       "      <td>23</td>\n",
       "      <td>0</td>\n",
       "    </tr>\n",
       "  </tbody>\n",
       "</table>\n",
       "<p>768 rows × 9 columns</p>\n",
       "</div>"
      ],
      "text/plain": [
       "     NumTimesPrg  PlGlcConc  BloodP  SkinThick  TwoHourSerIns   BMI  \\\n",
       "0              6        148      72         35           30.5  33.6   \n",
       "1              1         85      66         29           30.5  26.6   \n",
       "2              8        183      64         23           30.5  23.3   \n",
       "3              1         89      66         23           94.0  28.1   \n",
       "4              0        137      40         35          168.0  43.1   \n",
       "..           ...        ...     ...        ...            ...   ...   \n",
       "763           10        101      76         48          180.0  32.9   \n",
       "764            2        122      70         27           30.5  36.8   \n",
       "765            5        121      72         23          112.0  26.2   \n",
       "766            1        126      60         23           30.5  30.1   \n",
       "767            1         93      70         31           30.5  30.4   \n",
       "\n",
       "     DiPedFunc  Age  HasDiabetes  \n",
       "0        0.627   50            1  \n",
       "1        0.351   31            0  \n",
       "2        0.672   32            1  \n",
       "3        0.167   21            0  \n",
       "4        2.288   33            1  \n",
       "..         ...  ...          ...  \n",
       "763      0.171   63            0  \n",
       "764      0.340   27            0  \n",
       "765      0.245   30            0  \n",
       "766      0.349   47            1  \n",
       "767      0.315   23            0  \n",
       "\n",
       "[768 rows x 9 columns]"
      ]
     },
     "execution_count": 8,
     "metadata": {},
     "output_type": "execute_result"
    }
   ],
   "source": [
    "# Thay thế giá trị 0 ở mỗi cột bằng median của chúng\n",
    "df['BMI'] = df['BMI'].replace(to_replace=0, value=df['BMI'].median())\n",
    "df['BloodP'] = df['BloodP'].replace(to_replace=0, value=df['BloodP'].median())\n",
    "df['PlGlcConc'] = df['PlGlcConc'].replace(to_replace=0, value=df['PlGlcConc'].median())\n",
    "df['SkinThick'] = df['SkinThick'].replace(to_replace=0, value=df['SkinThick'].median())\n",
    "df['TwoHourSerIns'] = df['TwoHourSerIns'].replace(to_replace=0, value=df['TwoHourSerIns'].median())\n",
    "df"
   ]
  },
  {
   "cell_type": "markdown",
   "id": "3cdb5e45",
   "metadata": {},
   "source": [
    "# Task 6: Thực hiện co giãn dữ liệu thành giá trị trung bình bằng 0 và phương sai bằng 1"
   ]
  },
  {
   "cell_type": "code",
   "execution_count": 9,
   "id": "17351680",
   "metadata": {},
   "outputs": [
    {
     "data": {
      "text/plain": [
       "array([[ 0.63994726,  0.86604475, -0.03198993, ...,  0.16724016,\n",
       "         0.46849198,  1.4259954 ],\n",
       "       [-0.84488505, -1.20506583, -0.5283186 , ..., -0.85155088,\n",
       "        -0.36506078, -0.19067191],\n",
       "       [ 1.23388019,  2.01666174, -0.69376149, ..., -1.33183808,\n",
       "         0.60439732, -0.10558415],\n",
       "       ...,\n",
       "       [ 0.3429808 , -0.02157407, -0.03198993, ..., -0.90976751,\n",
       "        -0.68519336, -0.27575966],\n",
       "       [-0.84488505,  0.14279979, -1.02464727, ..., -0.34215536,\n",
       "        -0.37110101,  1.17073215],\n",
       "       [-0.84488505, -0.94206766, -0.19743282, ..., -0.29849289,\n",
       "        -0.47378505, -0.87137393]])"
      ]
     },
     "execution_count": 9,
     "metadata": {},
     "output_type": "execute_result"
    }
   ],
   "source": [
    "X = df.drop('HasDiabetes', axis = 1)\n",
    "y = df.HasDiabetes\n",
    "\n",
    "scaler = preprocessing.StandardScaler()\n",
    "\n",
    "X = scaler.fit_transform(X)\n",
    "X"
   ]
  },
  {
   "cell_type": "markdown",
   "id": "8b5d24b5",
   "metadata": {},
   "source": [
    "# Task 7: Tách tập dữ liệu train/test data"
   ]
  },
  {
   "cell_type": "code",
   "execution_count": 10,
   "id": "70c74da7",
   "metadata": {},
   "outputs": [],
   "source": [
    "from sklearn.model_selection import train_test_split\n",
    "X_train, X_test, y_train, y_test = train_test_split(X, y, test_size=0.2, random_state=7)"
   ]
  },
  {
   "cell_type": "markdown",
   "id": "f421585f",
   "metadata": {},
   "source": [
    "### Câu hỏi: Tại sao chúng ta nên thực hiện chuẩn hóa và phân tách dữ liệu trước bước huấn luyện?\n",
    "\n",
    "Đáp án:\n",
    "\n",
    "- Ta cần thực hiện chuẩn hóa và phân tách dữ liệu trước bước huấn luyện vì khi đánh giá hiệu suất dự đoán của mô hình, ta không được thiên vị, do đó ta cần chia tách dữ liệu để giảm khả năng sai lệch trong quá trình đánh giá và xác nhận của mình."
   ]
  },
  {
   "cell_type": "markdown",
   "id": "29b9eba1",
   "metadata": {},
   "source": [
    "# Task 8: In ra tỷ lệ dương tính trên tổng số phụ nữ mắc bệnh tiểu đường trong tập dữ liệu đầy đủ, tập huấn luyện và tập kiểm tra."
   ]
  },
  {
   "cell_type": "code",
   "execution_count": 11,
   "id": "a514cb84",
   "metadata": {},
   "outputs": [
    {
     "name": "stdout",
     "output_type": "stream",
     "text": [
      "Tỷ lệ dương tính trên tổng số phụ nữ mắc bệnh tiểu đường trong tập dữ liệu đầy đủ: 34.9%\n",
      "Tỷ lệ dương tính trên tổng số phụ nữ mắc bệnh tiểu đường trong tập huấn luyện: 34.36%\n",
      "Tỷ lệ dương tính trên tổng số phụ nữ mắc bệnh tiểu đường trong tập kiểm tra: 37.01%\n"
     ]
    }
   ],
   "source": [
    "print('Tỷ lệ dương tính trên tổng số phụ nữ mắc bệnh tiểu đường trong tập dữ liệu đầy đủ: {}%'.format(round(y.value_counts(normalize=True)[1]*100,2)))\n",
    "print('Tỷ lệ dương tính trên tổng số phụ nữ mắc bệnh tiểu đường trong tập huấn luyện: {}%'.format(round(y_train.value_counts(normalize=True)[1]*100,2)))\n",
    "print('Tỷ lệ dương tính trên tổng số phụ nữ mắc bệnh tiểu đường trong tập kiểm tra: {}%'.format(round(y_test.value_counts(normalize=True)[1]*100,2)))"
   ]
  },
  {
   "cell_type": "markdown",
   "id": "f4966528",
   "metadata": {},
   "source": [
    "# Phân loại"
   ]
  },
  {
   "cell_type": "code",
   "execution_count": 12,
   "id": "f615182e",
   "metadata": {},
   "outputs": [],
   "source": [
    "from sklearn.metrics import jaccard_score, f1_score, accuracy_score"
   ]
  },
  {
   "cell_type": "code",
   "execution_count": 13,
   "id": "b6099387",
   "metadata": {},
   "outputs": [],
   "source": [
    "# Dictionary để giữ tất cả score của bộ phân loại\n",
    "f1_scores = {'train':{'KNN': 0, 'DT': 0, 'SVM': 0, 'LR': 0, 'NN': 0, 'EN_HARD': 0, 'EN_SOFT': 0},\n",
    "             'test':{'KNN': 0, 'DT': 0, 'SVM': 0, 'LR': 0, 'NN': 0, 'EN_HARD': 0, 'EN_SOFT': 0}}\n",
    "jaccard_scores = {'train':{'KNN': 0, 'DT': 0, 'SVM': 0, 'LR': 0, 'NN': 0, 'EN_HARD': 0, 'EN_SOFT': 0}, \n",
    "                  'test':{'KNN': 0, 'DT': 0, 'SVM': 0, 'LR': 0, 'NN': 0, 'EN_HARD': 0, 'EN_SOFT': 0}}"
   ]
  },
  {
   "cell_type": "markdown",
   "id": "daabc111",
   "metadata": {},
   "source": [
    "# Task 9: K Nearest Neighbor(KNN)"
   ]
  },
  {
   "cell_type": "code",
   "execution_count": 14,
   "id": "83448db1",
   "metadata": {},
   "outputs": [],
   "source": [
    "from sklearn.neighbors import KNeighborsClassifier\n",
    "from sklearn.model_selection import GridSearchCV"
   ]
  },
  {
   "cell_type": "code",
   "execution_count": 15,
   "id": "c68127d5",
   "metadata": {
    "scrolled": true
   },
   "outputs": [
    {
     "name": "stdout",
     "output_type": "stream",
     "text": [
      "Các giá trị siêu tham số của mô hình KNN với độ chính xác tốt nhất: \n"
     ]
    },
    {
     "data": {
      "text/plain": [
       "{'algorithm': 'auto',\n",
       " 'leaf_size': 30,\n",
       " 'metric': 'euclidean',\n",
       " 'metric_params': None,\n",
       " 'n_jobs': None,\n",
       " 'n_neighbors': 20,\n",
       " 'p': 2,\n",
       " 'weights': 'uniform'}"
      ]
     },
     "execution_count": 15,
     "metadata": {},
     "output_type": "execute_result"
    }
   ],
   "source": [
    "# Tuning tham số\n",
    "params = {'n_neighbors': range(1,21), 'weights': ['uniform', 'distance'], 'metric': ['euclidean', 'manhattan', 'minkowski']}\n",
    "neigh = KNeighborsClassifier()\n",
    "knn_search = GridSearchCV(neigh, param_grid=params, scoring='accuracy', n_jobs=-1, cv=5)\n",
    "knn_search.fit(X_train, y_train)\n",
    "knn_model = knn_search.best_estimator_\n",
    "\n",
    "# Các giá trị siêu tham số của mô hình KNN với độ chính xác tốt nhất\n",
    "print('Các giá trị siêu tham số của mô hình KNN với độ chính xác tốt nhất: ')\n",
    "knn_model.get_params()"
   ]
  },
  {
   "cell_type": "code",
   "execution_count": 16,
   "id": "fa91f2d3",
   "metadata": {},
   "outputs": [
    {
     "name": "stdout",
     "output_type": "stream",
     "text": [
      "Train set accuracy:  0.7752442996742671\n",
      "Test set accuracy:  0.7662337662337663\n"
     ]
    }
   ],
   "source": [
    "# Đưa ra dự đoán từ train set và kiếm tra trên mô hình\n",
    "yhat = knn_model.predict(X_test)\n",
    "print('Train set accuracy: ', accuracy_score(y_train, knn_model.predict(X_train)))\n",
    "print('Test set accuracy: ', accuracy_score(y_test, yhat))"
   ]
  },
  {
   "cell_type": "code",
   "execution_count": 17,
   "id": "9b70103f",
   "metadata": {},
   "outputs": [
    {
     "name": "stdout",
     "output_type": "stream",
     "text": [
      "Test set f1 score: 0.6\n",
      "Test set jaccard score: 0.7165354330708661\n"
     ]
    }
   ],
   "source": [
    "# Tính f1 score và Jaccard score\n",
    "f1_scores['train']['KNN'] = f1_score(y_train, knn_model.predict(X_train))\n",
    "f1_scores['test']['KNN'] = f1_score(y_test, knn_model.predict(X_test))\n",
    "print('Test set f1 score:', f1_scores['test']['KNN'])\n",
    "\n",
    "jaccard_scores['train']['KNN'] = jaccard_score(y_train, knn_model.predict(X_train), pos_label=0)\n",
    "jaccard_scores['test']['KNN'] = jaccard_score(y_test, knn_model.predict(X_test), pos_label=0)\n",
    "print('Test set jaccard score:', jaccard_scores['test']['KNN'])"
   ]
  },
  {
   "cell_type": "markdown",
   "id": "5f7e8494",
   "metadata": {},
   "source": [
    "**Câu hỏi: Diễn giải các tham số bạn đã chọn để tinh chỉnh trong thuật toán KNN**\n",
    "\n",
    "- n_neighbors: là số lượng điểm dữ liệu gần nhau\n",
    "- weights: cách đánh trọng số cho các điểm dữ liệu\n",
    "- metric: loại thang đo khoảng cách"
   ]
  },
  {
   "cell_type": "markdown",
   "id": "e5e04738",
   "metadata": {},
   "source": [
    "# Task 10: Decision Tree"
   ]
  },
  {
   "cell_type": "code",
   "execution_count": 18,
   "id": "5eb38c5c",
   "metadata": {},
   "outputs": [],
   "source": [
    "from sklearn.tree import DecisionTreeClassifier"
   ]
  },
  {
   "cell_type": "code",
   "execution_count": 19,
   "id": "20845a9c",
   "metadata": {
    "scrolled": true
   },
   "outputs": [
    {
     "name": "stdout",
     "output_type": "stream",
     "text": [
      "Các giá trị siêu tham số của mô hình Decision Tree với độ chính xác tốt nhất: \n"
     ]
    },
    {
     "data": {
      "text/plain": [
       "{'ccp_alpha': 0.0,\n",
       " 'class_weight': None,\n",
       " 'criterion': 'log_loss',\n",
       " 'max_depth': 9,\n",
       " 'max_features': 'sqrt',\n",
       " 'max_leaf_nodes': None,\n",
       " 'min_impurity_decrease': 0.0,\n",
       " 'min_samples_leaf': 9,\n",
       " 'min_samples_split': 2,\n",
       " 'min_weight_fraction_leaf': 0.0,\n",
       " 'random_state': None,\n",
       " 'splitter': 'best'}"
      ]
     },
     "execution_count": 19,
     "metadata": {},
     "output_type": "execute_result"
    }
   ],
   "source": [
    "# Tuning tham số\n",
    "params = {'criterion': ['gini', 'entropy', 'log_loss'], 'splitter': ['best', 'random'], 'max_depth': [3, 7, 9], 'min_samples_leaf':range(1,11), 'max_features': ['sqrt', 'log2']}\n",
    "dcstree = DecisionTreeClassifier()\n",
    "tree_search = GridSearchCV(dcstree, param_grid=params, scoring='jaccard', n_jobs=-1, cv=5)\n",
    "tree_search.fit(X_train, y_train)\n",
    "tree_model = tree_search.best_estimator_\n",
    "\n",
    "# Các giá trị siêu tham số của mô hình Decision Tree với độ chính xác tốt nhất\n",
    "print('Các giá trị siêu tham số của mô hình Decision Tree với độ chính xác tốt nhất: ')\n",
    "tree_model.get_params()"
   ]
  },
  {
   "cell_type": "code",
   "execution_count": 20,
   "id": "9a8e1f2e",
   "metadata": {},
   "outputs": [
    {
     "name": "stdout",
     "output_type": "stream",
     "text": [
      "Train set accuracy:  0.8143322475570033\n",
      "Test set accuracy:  0.7337662337662337\n"
     ]
    }
   ],
   "source": [
    "# Đưa ra dự đoán từ train set và kiếm tra trên mô hình\n",
    "print('Train set accuracy: ', accuracy_score(y_train, tree_model.predict(X_train)))\n",
    "print('Test set accuracy: ', accuracy_score(y_test, tree_model.predict(X_test)))"
   ]
  },
  {
   "cell_type": "code",
   "execution_count": 21,
   "id": "e2dabeec",
   "metadata": {},
   "outputs": [
    {
     "name": "stdout",
     "output_type": "stream",
     "text": [
      "Test set f1 score: 0.6306306306306307\n",
      "Test set jaccard score: 0.6554621848739496\n"
     ]
    }
   ],
   "source": [
    "# Tính f1 score và Jaccard score\n",
    "f1_scores['train']['DT'] = f1_score(y_train, tree_model.predict(X_train))\n",
    "f1_scores['test']['DT'] = f1_score(y_test, tree_model.predict(X_test))\n",
    "print('Test set f1 score:', f1_scores['test']['DT'])\n",
    "\n",
    "jaccard_scores['train']['DT'] = jaccard_score(y_train, tree_model.predict(X_train), pos_label=0)\n",
    "jaccard_scores['test']['DT'] = jaccard_score(y_test, tree_model.predict(X_test), pos_label=0)\n",
    "print('Test set jaccard score:', jaccard_scores['test']['DT'])"
   ]
  },
  {
   "cell_type": "markdown",
   "id": "df6c1290",
   "metadata": {},
   "source": [
    "**Câu hỏi: Diễn giải các tham số bạn đã chọn để tinh chỉnh trong thuật toán Decision Tree**\n",
    "\n",
    "- criterion: đo lường chất lượng của việc tách dữ liệu\n",
    "- splitter: chọn cách tách dữ liệu tại mỗi nút\n",
    "- max_depth: độ sâu tối đa của cây\n",
    "- min_samples_leaf: số lượng mẫu tối thiểu cần có để tách tại mỗi nút\n",
    "- max_features: số lượng feature cần xem xét khi tìm kiếm cách phân chia tốt nhất"
   ]
  },
  {
   "cell_type": "markdown",
   "id": "0d04df7f",
   "metadata": {},
   "source": [
    "# Task 11: Support Vector Machine"
   ]
  },
  {
   "cell_type": "code",
   "execution_count": 22,
   "id": "489c8be0",
   "metadata": {},
   "outputs": [],
   "source": [
    "from sklearn.svm import SVC"
   ]
  },
  {
   "cell_type": "code",
   "execution_count": 23,
   "id": "95fe874d",
   "metadata": {
    "scrolled": false
   },
   "outputs": [
    {
     "name": "stdout",
     "output_type": "stream",
     "text": [
      "Các giá trị siêu tham số của mô hình SVM với độ chính xác tốt nhất: \n"
     ]
    },
    {
     "data": {
      "text/plain": [
       "{'C': 0.1,\n",
       " 'break_ties': False,\n",
       " 'cache_size': 200,\n",
       " 'class_weight': None,\n",
       " 'coef0': 0.0,\n",
       " 'decision_function_shape': 'ovr',\n",
       " 'degree': 3,\n",
       " 'gamma': 'scale',\n",
       " 'kernel': 'linear',\n",
       " 'max_iter': -1,\n",
       " 'probability': False,\n",
       " 'random_state': None,\n",
       " 'shrinking': True,\n",
       " 'tol': 0.001,\n",
       " 'verbose': False}"
      ]
     },
     "execution_count": 23,
     "metadata": {},
     "output_type": "execute_result"
    }
   ],
   "source": [
    "# Tuning tham số\n",
    "params = {'C': [0.001, 0.01, 0.1, 1, 10, 100], 'kernel': ['linear', 'poly', 'rbf', 'sigmoid'], 'gamma': ['scale', 'auto', 0.001, 0.01, 0.1, 1]}\n",
    "svc = SVC()\n",
    "svc_search = GridSearchCV(svc, param_grid=params, n_jobs=-1, cv=5)\n",
    "svc_search.fit(X_train, y_train)\n",
    "svc_model = svc_search.best_estimator_\n",
    "\n",
    "# Các giá trị siêu tham số của mô hình SVM với độ chính xác tốt nhất\n",
    "print('Các giá trị siêu tham số của mô hình SVM với độ chính xác tốt nhất: ')\n",
    "svc_model.get_params()"
   ]
  },
  {
   "cell_type": "code",
   "execution_count": 24,
   "id": "9a7e4af3",
   "metadata": {},
   "outputs": [
    {
     "name": "stdout",
     "output_type": "stream",
     "text": [
      "Train set accuracy:  0.7752442996742671\n",
      "Test set accuracy:  0.7727272727272727\n"
     ]
    }
   ],
   "source": [
    "# Đưa ra dự đoán từ train set và kiếm tra trên mô hình\n",
    "print('Train set accuracy: ', accuracy_score(y_train, svc_model.predict(X_train)))\n",
    "print('Test set accuracy: ', accuracy_score(y_test, svc_model.predict(X_test)))"
   ]
  },
  {
   "cell_type": "code",
   "execution_count": 25,
   "id": "21644199",
   "metadata": {},
   "outputs": [
    {
     "name": "stdout",
     "output_type": "stream",
     "text": [
      "Test set f1 score: 0.6464646464646465\n",
      "Test set jaccard score: 0.7131147540983607\n"
     ]
    }
   ],
   "source": [
    "# Tính f1 score và Jaccard score\n",
    "f1_scores['train']['SVM'] = f1_score(y_train, svc_model.predict(X_train))\n",
    "f1_scores['test']['SVM'] = f1_score(y_test, svc_model.predict(X_test))\n",
    "print('Test set f1 score:', f1_scores['test']['SVM'])\n",
    "\n",
    "jaccard_scores['train']['SVM'] = jaccard_score(y_train, svc_model.predict(X_train), pos_label=0)\n",
    "jaccard_scores['test']['SVM'] = jaccard_score(y_test, svc_model.predict(X_test), pos_label=0)\n",
    "print('Test set jaccard score:', jaccard_scores['test']['SVM'])"
   ]
  },
  {
   "cell_type": "markdown",
   "id": "9054f692",
   "metadata": {},
   "source": [
    "**Câu hỏi: Diễn giải các tham số bạn đã chọn để tinh chỉnh trong thuật toán SVM**\n",
    "\n",
    "- C: tham số điều chuẩn\n",
    "- kernel: xác định loại kernel để sử dụng trong thuật toán\n",
    "- gamma: hệ số kernel cho 'rbf, 'rbf và 'sigmoid'"
   ]
  },
  {
   "cell_type": "markdown",
   "id": "6fde86f7",
   "metadata": {},
   "source": [
    "# Task 12: Logistic Regression"
   ]
  },
  {
   "cell_type": "code",
   "execution_count": 26,
   "id": "8351cfe8",
   "metadata": {},
   "outputs": [],
   "source": [
    "from sklearn.linear_model import LogisticRegression"
   ]
  },
  {
   "cell_type": "code",
   "execution_count": 27,
   "id": "7ad61f58",
   "metadata": {
    "scrolled": false
   },
   "outputs": [
    {
     "name": "stdout",
     "output_type": "stream",
     "text": [
      "Các giá trị siêu tham số của mô hình SVM với độ chính xác tốt nhất: \n"
     ]
    },
    {
     "data": {
      "text/plain": [
       "{'C': 0.1,\n",
       " 'class_weight': None,\n",
       " 'dual': False,\n",
       " 'fit_intercept': True,\n",
       " 'intercept_scaling': 1,\n",
       " 'l1_ratio': None,\n",
       " 'max_iter': 100,\n",
       " 'multi_class': 'auto',\n",
       " 'n_jobs': None,\n",
       " 'penalty': 'l2',\n",
       " 'random_state': None,\n",
       " 'solver': 'liblinear',\n",
       " 'tol': 0.0001,\n",
       " 'verbose': 0,\n",
       " 'warm_start': False}"
      ]
     },
     "execution_count": 27,
     "metadata": {},
     "output_type": "execute_result"
    }
   ],
   "source": [
    "# Tuning tham số\n",
    "params = {'penalty': ['l2'], 'C': [100, 10, 1.0, 0.1, 0.01], 'solver': ['newton-cg', 'lbfgs', 'liblinear']}\n",
    "lgr = LogisticRegression()\n",
    "lgr_search = GridSearchCV(lgr, param_grid=params, n_jobs=-1, cv=5)\n",
    "lgr_search.fit(X_train, y_train)\n",
    "lgr_model = lgr_search.best_estimator_\n",
    "\n",
    "# Các giá trị siêu tham số của mô hình SVM với độ chính xác tốt nhất\n",
    "print('Các giá trị siêu tham số của mô hình SVM với độ chính xác tốt nhất: ')\n",
    "lgr_model.get_params()"
   ]
  },
  {
   "cell_type": "code",
   "execution_count": 28,
   "id": "58bb1040",
   "metadata": {},
   "outputs": [
    {
     "name": "stdout",
     "output_type": "stream",
     "text": [
      "Train set accuracy:  0.7752442996742671\n",
      "Test set accuracy:  0.7727272727272727\n"
     ]
    }
   ],
   "source": [
    "# Đưa ra dự đoán từ train set và kiếm tra trên mô hình\n",
    "print('Train set accuracy: ', accuracy_score(y_train, lgr_model.predict(X_train)))\n",
    "print('Test set accuracy: ', accuracy_score(y_test, lgr_model.predict(X_test)))"
   ]
  },
  {
   "cell_type": "code",
   "execution_count": 29,
   "id": "a45d8510",
   "metadata": {},
   "outputs": [
    {
     "name": "stdout",
     "output_type": "stream",
     "text": [
      "Test set f1 score: 0.6601941747572816\n",
      "Test set jaccard score: 0.7083333333333334\n"
     ]
    }
   ],
   "source": [
    "# Tính f1 score và Jaccard score\n",
    "f1_scores['train']['LR'] = f1_score(y_train, lgr_model.predict(X_train))\n",
    "f1_scores['test']['LR'] = f1_score(y_test, lgr_model.predict(X_test))\n",
    "print('Test set f1 score:', f1_scores['test']['LR'])\n",
    "\n",
    "jaccard_scores['train']['LR'] = jaccard_score(y_train, lgr_model.predict(X_train), pos_label=0)\n",
    "jaccard_scores['test']['LR'] = jaccard_score(y_test, lgr_model.predict(X_test), pos_label=0)\n",
    "print('Test set jaccard score:', jaccard_scores['test']['LR'])"
   ]
  },
  {
   "cell_type": "markdown",
   "id": "c90c8a60",
   "metadata": {},
   "source": [
    "**Câu hỏi: Diễn giải các tham số bạn đã chọn để tinh chỉnh trong thuật toán Logistic Regression**\n",
    "\n",
    "- penalty: xác định quy tắc phạt\n",
    "- C: tham số điều chuẩn\n",
    "- solver: thuật toán sử dụng để tối ưu"
   ]
  },
  {
   "cell_type": "markdown",
   "id": "6c5ac112",
   "metadata": {},
   "source": [
    "# Task 13: Neural Network"
   ]
  },
  {
   "cell_type": "code",
   "execution_count": 30,
   "id": "5320c18e",
   "metadata": {},
   "outputs": [],
   "source": [
    "from sklearn.neural_network import MLPClassifier"
   ]
  },
  {
   "cell_type": "code",
   "execution_count": 31,
   "id": "a5685fc2",
   "metadata": {
    "scrolled": false
   },
   "outputs": [
    {
     "name": "stdout",
     "output_type": "stream",
     "text": [
      "Các giá trị siêu tham số của mô hình NN với độ chính xác tốt nhất: \n"
     ]
    },
    {
     "data": {
      "text/plain": [
       "{'activation': 'identity',\n",
       " 'alpha': 0.05,\n",
       " 'batch_size': 'auto',\n",
       " 'beta_1': 0.9,\n",
       " 'beta_2': 0.999,\n",
       " 'early_stopping': False,\n",
       " 'epsilon': 1e-08,\n",
       " 'hidden_layer_sizes': (50, 100, 50),\n",
       " 'learning_rate': 'invscaling',\n",
       " 'learning_rate_init': 0.001,\n",
       " 'max_fun': 15000,\n",
       " 'max_iter': 100,\n",
       " 'momentum': 0.9,\n",
       " 'n_iter_no_change': 10,\n",
       " 'nesterovs_momentum': True,\n",
       " 'power_t': 0.5,\n",
       " 'random_state': None,\n",
       " 'shuffle': True,\n",
       " 'solver': 'adam',\n",
       " 'tol': 0.0001,\n",
       " 'validation_fraction': 0.1,\n",
       " 'verbose': False,\n",
       " 'warm_start': False}"
      ]
     },
     "execution_count": 31,
     "metadata": {},
     "output_type": "execute_result"
    }
   ],
   "source": [
    "# Tuning tham số\n",
    "params = {'hidden_layer_sizes': [(50,50,50), (50,100,50), (100,)], 'activation': ['identity', 'logistic', 'tanh', 'relu'], 'solver': ['sgd', 'adam'], 'alpha': [0.0001, 0.05], 'learning_rate': ['constant', 'invscaling', 'adaptive']}\n",
    "nn = MLPClassifier(max_iter=100)\n",
    "nn_search = GridSearchCV(nn, param_grid=params, n_jobs=-1, cv=5)\n",
    "nn_search.fit(X_train, y_train)\n",
    "nn_model = nn_search.best_estimator_\n",
    "\n",
    "# Các giá trị siêu tham số của mô hình NN với độ chính xác tốt nhất\n",
    "print('Các giá trị siêu tham số của mô hình NN với độ chính xác tốt nhất: ')\n",
    "nn_model.get_params()"
   ]
  },
  {
   "cell_type": "code",
   "execution_count": 32,
   "id": "0eed7b03",
   "metadata": {},
   "outputs": [
    {
     "name": "stdout",
     "output_type": "stream",
     "text": [
      "Train set accuracy:  0.7671009771986971\n",
      "Test set accuracy:  0.7987012987012987\n"
     ]
    }
   ],
   "source": [
    "# Đưa ra dự đoán từ train set và kiếm tra trên mô hình\n",
    "print('Train set accuracy: ', accuracy_score(y_train, nn_model.predict(X_train)))\n",
    "print('Test set accuracy: ', accuracy_score(y_test, nn_model.predict(X_test)))"
   ]
  },
  {
   "cell_type": "code",
   "execution_count": 33,
   "id": "dc7bcb08",
   "metadata": {},
   "outputs": [
    {
     "name": "stdout",
     "output_type": "stream",
     "text": [
      "Test set f1 score: 0.7102803738317756\n",
      "Test set jaccard score: 0.7327586206896551\n"
     ]
    }
   ],
   "source": [
    "# Tính f1 score và Jaccard score\n",
    "f1_scores['train']['NN'] = f1_score(y_train, nn_model.predict(X_train))\n",
    "f1_scores['test']['NN'] = f1_score(y_test, nn_model.predict(X_test))\n",
    "print('Test set f1 score:', f1_scores['test']['NN'])\n",
    "\n",
    "jaccard_scores['train']['NN'] = jaccard_score(y_train, nn_model.predict(X_train), pos_label=0)\n",
    "jaccard_scores['test']['NN'] = jaccard_score(y_test, nn_model.predict(X_test), pos_label=0)\n",
    "print('Test set jaccard score:', jaccard_scores['test']['NN'])"
   ]
  },
  {
   "cell_type": "markdown",
   "id": "79a5d4cf",
   "metadata": {},
   "source": [
    "**Câu hỏi: Diễn giải các tham số bạn đã chọn để tinh chỉnh trong thuật toán Neural Network**\n",
    "\n",
    "- hidden_layer_sizes: phần tử thứ i đại diện cho số lượng neurons trong lớp ẩn thứ i\n",
    "- activation: hàm kích hoạt cho lớp ẩn\n",
    "- solver: cách tối ưu trọng số\n",
    "- learning_rate: tốc độ học cho những lần update trọng số"
   ]
  },
  {
   "cell_type": "code",
   "execution_count": 36,
   "id": "16fedac0",
   "metadata": {},
   "outputs": [
    {
     "data": {
      "text/plain": [
       "{'train': {'KNN': 0.6057142857142856,\n",
       "  'DT': 0.731132075471698,\n",
       "  'SVM': 0.625,\n",
       "  'LR': 0.6329787234042553,\n",
       "  'NN': 0.6342710997442454,\n",
       "  'EN_HARD': 0,\n",
       "  'EN_SOFT': 0},\n",
       " 'test': {'KNN': 0.6,\n",
       "  'DT': 0.6306306306306307,\n",
       "  'SVM': 0.6464646464646465,\n",
       "  'LR': 0.6601941747572816,\n",
       "  'NN': 0.7102803738317756,\n",
       "  'EN_HARD': 0,\n",
       "  'EN_SOFT': 0}}"
      ]
     },
     "execution_count": 36,
     "metadata": {},
     "output_type": "execute_result"
    }
   ],
   "source": [
    "f1_scores"
   ]
  },
  {
   "cell_type": "code",
   "execution_count": 37,
   "id": "310a2fcf",
   "metadata": {},
   "outputs": [
    {
     "data": {
      "text/plain": [
       "{'train': {'KNN': 0.7283464566929134,\n",
       "  'DT': 0.7516339869281046,\n",
       "  'SVM': 0.7234468937875751,\n",
       "  'LR': 0.7212121212121212,\n",
       "  'NN': 0.7081632653061225,\n",
       "  'EN_HARD': 0,\n",
       "  'EN_SOFT': 0},\n",
       " 'test': {'KNN': 0.7165354330708661,\n",
       "  'DT': 0.6554621848739496,\n",
       "  'SVM': 0.7131147540983607,\n",
       "  'LR': 0.7083333333333334,\n",
       "  'NN': 0.7327586206896551,\n",
       "  'EN_HARD': 0,\n",
       "  'EN_SOFT': 0}}"
      ]
     },
     "execution_count": 37,
     "metadata": {},
     "output_type": "execute_result"
    }
   ],
   "source": [
    "jaccard_scores"
   ]
  },
  {
   "cell_type": "code",
   "execution_count": null,
   "id": "a9072875",
   "metadata": {},
   "outputs": [],
   "source": []
  },
  {
   "cell_type": "code",
   "execution_count": null,
   "id": "771c3218",
   "metadata": {},
   "outputs": [],
   "source": []
  }
 ],
 "metadata": {
  "kernelspec": {
   "display_name": "Python 3 (ipykernel)",
   "language": "python",
   "name": "python3"
  },
  "language_info": {
   "codemirror_mode": {
    "name": "ipython",
    "version": 3
   },
   "file_extension": ".py",
   "mimetype": "text/x-python",
   "name": "python",
   "nbconvert_exporter": "python",
   "pygments_lexer": "ipython3",
   "version": "3.9.12"
  }
 },
 "nbformat": 4,
 "nbformat_minor": 5
}
